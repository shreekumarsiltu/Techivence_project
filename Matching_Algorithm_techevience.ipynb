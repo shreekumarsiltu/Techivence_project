{
  "nbformat": 4,
  "nbformat_minor": 0,
  "metadata": {
    "colab": {
      "name": "Matching_Algorithm.ipynb",
      "provenance": []
    },
    "kernelspec": {
      "name": "python3",
      "display_name": "Python 3"
    }
  },
  "cells": [
    {
      "cell_type": "code",
      "metadata": {
        "id": "1VkbhYlbzOlc",
        "colab_type": "code",
        "colab": {}
      },
      "source": [
        "def matcher(DATAFRAME):\n",
        "    data = DATAFRAME\n",
        "    name = data.NAME\n",
        "    \n",
        "    data.GENDER = data.GENDER.astype(str).str.replace('[', '').str.replace(']', '')\n",
        "    data.SOCIAL_MEDIA = data.SOCIAL_MEDIA.astype(str).str.replace('[', '').str.replace(']', '')\n",
        "    data.INTELLIGENCE = data.INTELLIGENCE.astype(str).str.replace('[', '').str.replace(']', '')\n",
        "    data.INTROVERSION = data.INTROVERSION.astype(str).str.replace('[', '').str.replace(']', '')\n",
        "    data.FREE_TIME = data.FREE_TIME.astype(str).str.replace('[', '').str.replace(']', '')\n",
        "    data.IDEAL_VACATION = data.IDEAL_VACATION.astype(str).str.replace('[', '').str.replace(']', '')\n",
        "    data.GENRE = data.GENRE.astype(str).str.replace('[', '').str.replace(']', '')\n",
        "    data.DRESSING_SENSE = data.DRESSING_SENSE.astype(str).str.replace('[', '').str.replace(']', '')\n",
        "    data.COMPELLING = data.COMPELLING.astype(str).str.replace('[', '').str.replace(']', '')\n",
        "    data.REJECTING = data.REJECTING.astype(str).str.replace('[', '').str.replace(']', '')\n",
        "    data.SUB_DUB = data.SUB_DUB.astype(str).str.replace('[', '').str.replace(']', '')\n",
        "\n",
        "    le = LabelEncoder()\n",
        "    data_copy=data.drop(['AGE', 'NAME'],axis=1)\n",
        "    for col in data_copy.columns:\n",
        "        data_copy[col] = le.fit_transform(data_copy[col])\n",
        "    data_copy['AGE'] = data['AGE']\n",
        "    \n",
        "    sc = StandardScaler()\n",
        "    data_copy = sc.fit_transform(data_copy)\n",
        "    data_copy = pd.DataFrame(data_copy)\n",
        "    \n",
        "    cosine = cosine_similarity(data_copy)\n",
        "    cosine = pd.DataFrame(cosine)\n",
        "    cosine.columns = name\n",
        "    cosine['name'] = name\n",
        "    cosine.set_index('name', inplace=True)\n",
        "    \n",
        "    for i in range(len(cosine)):\n",
        "        for j in range(len(cosine)):\n",
        "            if cosine.iloc[i, j] == cosine.iloc[j, i]:\n",
        "                cosine.iloc[j, i] = -2\n",
        "                \n",
        "    matcher_arr = []\n",
        "    for iters in range(len(cosine)//2):\n",
        "        name1 ,name2 = cosine.max(axis=0).idxmax(), cosine.max(axis=1).idxmax()\n",
        "        matcher_arr.append((name1, name2))\n",
        "        cosine.drop(columns=[name1, name2], inplace=True)\n",
        "        cosine.drop(labels=[name1, name2], axis=0, inplace=True)\n",
        "\n",
        "    return matcher_arr\n"
      ],
      "execution_count": null,
      "outputs": []
    }
  ]
}