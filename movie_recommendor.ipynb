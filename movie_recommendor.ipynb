{
 "cells": [
  {
   "cell_type": "code",
   "execution_count": 1,
   "metadata": {
    "colab": {
     "base_uri": "https://localhost:8080/",
     "height": 50
    },
    "colab_type": "code",
    "id": "y4Vx2hglk5ca",
    "outputId": "3b5e75a0-5055-4f76-f724-2552f2397495"
   },
   "outputs": [
    {
     "name": "stdout",
     "output_type": "stream",
     "text": [
      "[nltk_data] Downloading package stopwords to /root/nltk_data...\n",
      "[nltk_data]   Package stopwords is already up-to-date!\n"
     ]
    }
   ],
   "source": [
    "import pandas as pd\n",
    "from sklearn.feature_extraction.text import TfidfTransformer\n",
    "from sklearn.feature_extraction.text import CountVectorizer\n",
    "import nltk\n",
    "import re\n",
    "nltk.download('stopwords')\n",
    "from nltk.corpus import stopwords"
   ]
  },
  {
   "cell_type": "code",
   "execution_count": 0,
   "metadata": {
    "colab": {},
    "colab_type": "code",
    "id": "yxmiZIGflHuP"
   },
   "outputs": [],
   "source": [
    "df =pd.read_csv(\"/content/All_movies.csv\")"
   ]
  },
  {
   "cell_type": "code",
   "execution_count": 3,
   "metadata": {
    "colab": {
     "base_uri": "https://localhost:8080/",
     "height": 296
    },
    "colab_type": "code",
    "id": "fihqKXqG73vk",
    "outputId": "fdedf619-17d1-4c0f-c2be-6796bd9d72d7"
   },
   "outputs": [
    {
     "data": {
      "text/html": [
       "<div>\n",
       "<style scoped>\n",
       "    .dataframe tbody tr th:only-of-type {\n",
       "        vertical-align: middle;\n",
       "    }\n",
       "\n",
       "    .dataframe tbody tr th {\n",
       "        vertical-align: top;\n",
       "    }\n",
       "\n",
       "    .dataframe thead th {\n",
       "        text-align: right;\n",
       "    }\n",
       "</style>\n",
       "<table border=\"1\" class=\"dataframe\">\n",
       "  <thead>\n",
       "    <tr style=\"text-align: right;\">\n",
       "      <th></th>\n",
       "      <th>Unnamed: 0</th>\n",
       "      <th>Actors</th>\n",
       "      <th>Description</th>\n",
       "      <th>Director</th>\n",
       "      <th>Genre</th>\n",
       "      <th>Rating</th>\n",
       "      <th>Title</th>\n",
       "    </tr>\n",
       "  </thead>\n",
       "  <tbody>\n",
       "    <tr>\n",
       "      <th>0</th>\n",
       "      <td>0</td>\n",
       "      <td>Deepika Padukone, Vikrant Massey, Vishal Dahiy...</td>\n",
       "      <td>The trials and triumphs of Malti, an acid ...</td>\n",
       "      <td>Meghna Gulzar</td>\n",
       "      <td>Biography, Drama</td>\n",
       "      <td>4.8</td>\n",
       "      <td>Chhapaak</td>\n",
       "    </tr>\n",
       "    <tr>\n",
       "      <th>1</th>\n",
       "      <td>1</td>\n",
       "      <td>Ajay Devgn, Saif Ali Khan, Kajol, Rajesh Aher</td>\n",
       "      <td>Tanhaji Malusare, a military chieftain in ...</td>\n",
       "      <td>Om Raut</td>\n",
       "      <td>Action, Biography, Drama</td>\n",
       "      <td>8.2</td>\n",
       "      <td>Tanhaji: The Unsung Warrior</td>\n",
       "    </tr>\n",
       "    <tr>\n",
       "      <th>2</th>\n",
       "      <td>2</td>\n",
       "      <td>Sushant Singh Rajput, Shraddha Kapoor, Varun S...</td>\n",
       "      <td>Following a group of friends from universi...</td>\n",
       "      <td>Nitesh Tiwari</td>\n",
       "      <td>Comedy, Drama</td>\n",
       "      <td>8.1</td>\n",
       "      <td>Chhichhore</td>\n",
       "    </tr>\n",
       "    <tr>\n",
       "      <th>3</th>\n",
       "      <td>3</td>\n",
       "      <td>Shahid Kapoor, Kiara Advani, Nikita Dutta, Soh...</td>\n",
       "      <td>Kabir Singh is a remake of a Telugu movie ...</td>\n",
       "      <td>Sandeep Reddy Vanga</td>\n",
       "      <td>Drama, Romance</td>\n",
       "      <td>7.1</td>\n",
       "      <td>Kabir Singh</td>\n",
       "    </tr>\n",
       "    <tr>\n",
       "      <th>4</th>\n",
       "      <td>4</td>\n",
       "      <td>Daniel Craig, Chris Evans, Ana de Armas, Jamie...</td>\n",
       "      <td>A detective investigates the death of a pa...</td>\n",
       "      <td>Rian Johnson</td>\n",
       "      <td>Comedy, Crime, Drama</td>\n",
       "      <td>8.0</td>\n",
       "      <td>Knives Out</td>\n",
       "    </tr>\n",
       "  </tbody>\n",
       "</table>\n",
       "</div>"
      ],
      "text/plain": [
       "   Unnamed: 0  ...                        Title\n",
       "0           0  ...                     Chhapaak\n",
       "1           1  ...  Tanhaji: The Unsung Warrior\n",
       "2           2  ...                   Chhichhore\n",
       "3           3  ...                  Kabir Singh\n",
       "4           4  ...                   Knives Out\n",
       "\n",
       "[5 rows x 7 columns]"
      ]
     },
     "execution_count": 3,
     "metadata": {
      "tags": []
     },
     "output_type": "execute_result"
    }
   ],
   "source": [
    "df.head()"
   ]
  },
  {
   "cell_type": "code",
   "execution_count": 0,
   "metadata": {
    "colab": {},
    "colab_type": "code",
    "id": "aYHllPuR63de"
   },
   "outputs": [],
   "source": [
    "df.drop(columns=[\"Unnamed: 0\",\"Rating\"],inplace=True)"
   ]
  },
  {
   "cell_type": "code",
   "execution_count": 0,
   "metadata": {
    "colab": {},
    "colab_type": "code",
    "id": "wfCcNjS_6FOn"
   },
   "outputs": [],
   "source": [
    "df1=df.copy()"
   ]
  },
  {
   "cell_type": "code",
   "execution_count": 0,
   "metadata": {
    "colab": {},
    "colab_type": "code",
    "id": "jbwTKT30G8Tv"
   },
   "outputs": [],
   "source": [
    "df1[\"Actors\"]=[x.lower().replace(' ','') for x in df1['Actors']]\n",
    "df1[\"Director\"]=[x.lower().replace(' ','') for x in df1['Director']]"
   ]
  },
  {
   "cell_type": "code",
   "execution_count": 0,
   "metadata": {
    "colab": {},
    "colab_type": "code",
    "id": "vhghl9qL03Hj"
   },
   "outputs": [],
   "source": [
    "df1[\"details\"]=df1[\"Genre\"]+\" \"+df1[\"Director\"]+\" \"+df1[\"Actors\"]+\" \"+df1[\"Description\"]"
   ]
  },
  {
   "cell_type": "code",
   "execution_count": 0,
   "metadata": {
    "colab": {},
    "colab_type": "code",
    "id": "ML2ZwLexnHaw"
   },
   "outputs": [],
   "source": [
    "df1.drop(columns=['Genre', 'Director', 'Actors',\"Description\"],inplace=True)"
   ]
  },
  {
   "cell_type": "code",
   "execution_count": 9,
   "metadata": {
    "colab": {
     "base_uri": "https://localhost:8080/",
     "height": 195
    },
    "colab_type": "code",
    "id": "TcvaZiSBnYLi",
    "outputId": "64fd77f3-d84b-4e3b-d688-11dcd6a5fc17"
   },
   "outputs": [
    {
     "data": {
      "text/html": [
       "<div>\n",
       "<style scoped>\n",
       "    .dataframe tbody tr th:only-of-type {\n",
       "        vertical-align: middle;\n",
       "    }\n",
       "\n",
       "    .dataframe tbody tr th {\n",
       "        vertical-align: top;\n",
       "    }\n",
       "\n",
       "    .dataframe thead th {\n",
       "        text-align: right;\n",
       "    }\n",
       "</style>\n",
       "<table border=\"1\" class=\"dataframe\">\n",
       "  <thead>\n",
       "    <tr style=\"text-align: right;\">\n",
       "      <th></th>\n",
       "      <th>Title</th>\n",
       "      <th>details</th>\n",
       "    </tr>\n",
       "  </thead>\n",
       "  <tbody>\n",
       "    <tr>\n",
       "      <th>0</th>\n",
       "      <td>Chhapaak</td>\n",
       "      <td>Biography, Drama             meghnagulzar deep...</td>\n",
       "    </tr>\n",
       "    <tr>\n",
       "      <th>1</th>\n",
       "      <td>Tanhaji: The Unsung Warrior</td>\n",
       "      <td>Action, Biography, Drama             omraut aj...</td>\n",
       "    </tr>\n",
       "    <tr>\n",
       "      <th>2</th>\n",
       "      <td>Chhichhore</td>\n",
       "      <td>Comedy, Drama             niteshtiwari sushant...</td>\n",
       "    </tr>\n",
       "    <tr>\n",
       "      <th>3</th>\n",
       "      <td>Kabir Singh</td>\n",
       "      <td>Drama, Romance             sandeepreddyvanga s...</td>\n",
       "    </tr>\n",
       "    <tr>\n",
       "      <th>4</th>\n",
       "      <td>Knives Out</td>\n",
       "      <td>Comedy, Crime, Drama             rianjohnson d...</td>\n",
       "    </tr>\n",
       "  </tbody>\n",
       "</table>\n",
       "</div>"
      ],
      "text/plain": [
       "                         Title                                            details\n",
       "0                     Chhapaak  Biography, Drama             meghnagulzar deep...\n",
       "1  Tanhaji: The Unsung Warrior  Action, Biography, Drama             omraut aj...\n",
       "2                   Chhichhore  Comedy, Drama             niteshtiwari sushant...\n",
       "3                  Kabir Singh  Drama, Romance             sandeepreddyvanga s...\n",
       "4                   Knives Out  Comedy, Crime, Drama             rianjohnson d..."
      ]
     },
     "execution_count": 9,
     "metadata": {
      "tags": []
     },
     "output_type": "execute_result"
    }
   ],
   "source": [
    "df1.head()"
   ]
  },
  {
   "cell_type": "code",
   "execution_count": 0,
   "metadata": {
    "colab": {},
    "colab_type": "code",
    "id": "IQ2snahCpRHh"
   },
   "outputs": [],
   "source": [
    "import string"
   ]
  },
  {
   "cell_type": "code",
   "execution_count": 0,
   "metadata": {
    "colab": {},
    "colab_type": "code",
    "id": "fUI4iIaDq1sn"
   },
   "outputs": [],
   "source": [
    "df1[\"details\"]=df1[\"details\"].apply(lambda x: x.lower())"
   ]
  },
  {
   "cell_type": "code",
   "execution_count": 0,
   "metadata": {
    "colab": {},
    "colab_type": "code",
    "id": "JtRjOd9kC8u3"
   },
   "outputs": [],
   "source": [
    "stopwords=set(stopwords.words('english'))"
   ]
  },
  {
   "cell_type": "code",
   "execution_count": 0,
   "metadata": {
    "colab": {},
    "colab_type": "code",
    "id": "qdfhMgLorgGB"
   },
   "outputs": [],
   "source": [
    "def clean(text):\n",
    "  text1=\" \".join([x for x in text.split() if x not in stopwords])\n",
    "  text1=re.sub(\"[^a-zA-Z]+\",\" \",text1)\n",
    "  text1=re.sub(' +', ' ', text1)\n",
    "  text1 = re.sub(r\"\\s+[a-zA-Z]\\s+\", ' ', text1)\n",
    "  text1 = re.sub(r'\\s+', ' ', text1)\n",
    "  return text1"
   ]
  },
  {
   "cell_type": "code",
   "execution_count": 0,
   "metadata": {
    "colab": {},
    "colab_type": "code",
    "id": "1Y6yaZVyvSz7"
   },
   "outputs": [],
   "source": [
    "df1[\"details\"]=df1[\"details\"].apply(lambda x: clean(x))"
   ]
  },
  {
   "cell_type": "code",
   "execution_count": 15,
   "metadata": {
    "colab": {
     "base_uri": "https://localhost:8080/",
     "height": 54
    },
    "colab_type": "code",
    "id": "cprvKUAeIbaX",
    "outputId": "b290b506-361f-40d0-8f85-a8761815dc4e"
   },
   "outputs": [
    {
     "data": {
      "text/plain": [
       "'biography drama meghnagulzar deepikapadukone vikrantmassey vishaldahiya madhurjeetsarghi trials triumphs malti acid attack survivor investigation attack court proceedings medical treatment emotional healing chhapaak story unquashable human spirit '"
      ]
     },
     "execution_count": 15,
     "metadata": {
      "tags": []
     },
     "output_type": "execute_result"
    }
   ],
   "source": [
    "df1[\"details\"][0]"
   ]
  },
  {
   "cell_type": "code",
   "execution_count": 0,
   "metadata": {
    "colab": {},
    "colab_type": "code",
    "id": "A_-7Xliz3tkq"
   },
   "outputs": [],
   "source": [
    "from sklearn.feature_extraction.text import TfidfVectorizer\n",
    "tfidf_vectorizer = TfidfVectorizer()"
   ]
  },
  {
   "cell_type": "code",
   "execution_count": 0,
   "metadata": {
    "colab": {},
    "colab_type": "code",
    "id": "rJtQvZoX1n_E"
   },
   "outputs": [],
   "source": [
    "from sklearn.metrics.pairwise import cosine_similarity\n",
    "tfidf = tfidf_vectorizer.fit_transform(df1[\"details\"])"
   ]
  },
  {
   "cell_type": "code",
   "execution_count": 0,
   "metadata": {
    "colab": {},
    "colab_type": "code",
    "id": "pFDYaihJ6zYN"
   },
   "outputs": [],
   "source": [
    "import operator"
   ]
  },
  {
   "cell_type": "code",
   "execution_count": 0,
   "metadata": {
    "colab": {},
    "colab_type": "code",
    "id": "scC52EKh4vID"
   },
   "outputs": [],
   "source": [
    "movies=list(df[\"Title\"])\n",
    "#years=list(df[\"Year\"])"
   ]
  },
  {
   "cell_type": "code",
   "execution_count": 0,
   "metadata": {
    "colab": {},
    "colab_type": "code",
    "id": "2SdxG34cEOUI"
   },
   "outputs": [],
   "source": [
    "movie_name=list(df1[\"Title\"].to_numpy())"
   ]
  },
  {
   "cell_type": "code",
   "execution_count": 0,
   "metadata": {
    "colab": {},
    "colab_type": "code",
    "id": "RDyPnJDgLlG4"
   },
   "outputs": [],
   "source": [
    "def similar_func(movie_in_func):                               \n",
    "\n",
    "  similarity={}\n",
    "  for f in range(len(movies)):\n",
    "    if movie_in_func == movies[f] :\n",
    "      index=f\n",
    "\n",
    "  for f in range(len(movies)):\n",
    "    if f!=index:\n",
    "      score= cosine_similarity(tfidf[index], tfidf[f]).astype(\"float\")[0][0]\n",
    "      similarity[f]=score\n",
    "\n",
    "  similarity_sort=sorted(similarity.items(), key=operator.itemgetter(1),reverse=True)\n",
    "  return(similarity_sort)"
   ]
  },
  {
   "cell_type": "code",
   "execution_count": 0,
   "metadata": {
    "colab": {},
    "colab_type": "code",
    "id": "MLdEBDSU9fyv"
   },
   "outputs": [],
   "source": [
    "def recommended_movies(movie_in):\n",
    "  rating={}\n",
    "  #movie_in=['Zindagi Na Milegi Dobara','Game Night']                                         #Input movies                                                                              #Input movies index\n",
    "\n",
    "  for f in range(len(movies)):\n",
    "    rating[f]=[] \n",
    "\n",
    "  for f in range(len(movie_in)):\n",
    "    movie_list = similar_func(movie_in[f])\n",
    "\n",
    "    for x in range(len(movie_list)):\n",
    "      rating[movie_list[x][0]].append(movie_list[x][1])\n",
    "\n",
    "    for y in range(len(movies)):\n",
    "      if movie_in[f] == movies[y] :\n",
    "        index=y\n",
    "    \n",
    "    rating[index].append(-100)\n",
    "\n",
    "  rating_sum={}                                            \n",
    "  for f in range(len(movies)):\n",
    "    rating_sum[f]= []\n",
    "  \n",
    "\n",
    "  for f in range(len(movies)):\n",
    "    a= rating[f]\n",
    "    sum_=0\n",
    "    for x in range(len(a)):\n",
    "      sum_ = sum_ + a[x]\n",
    "  \n",
    "    rating_sum[f] = sum_\n",
    "\n",
    "  #n=10\n",
    "  similarity_sort=sorted(rating_sum.items(), key=operator.itemgetter(1),reverse=True)\n",
    "  #print(\"You should watch these movies \\n\")\n",
    "  #for x in range(n):\n",
    "    #name=movies[similarity_sort[x][0]]\n",
    "    #year=years[similarity_sort[x][0]]\n",
    "    #score1=similarity_sort[x][1]\n",
    "    #print(\"Movie name  \" ,name,\"       SCORE  \",score1)\n",
    "    #print(\"------------------------------------------------------------------------------\")\n",
    "  return similarity_sort\n"
   ]
  },
  {
   "cell_type": "code",
   "execution_count": 0,
   "metadata": {
    "colab": {},
    "colab_type": "code",
    "id": "uHR2ddih_kQH"
   },
   "outputs": [],
   "source": [
    "movie_user_1=['Badla','Super 30','Article 15'] \n",
    "movie_user_2=['Article 15','Kesari','Andhadhun']  "
   ]
  },
  {
   "cell_type": "code",
   "execution_count": 0,
   "metadata": {
    "colab": {},
    "colab_type": "code",
    "id": "izkLD4lL-vG7"
   },
   "outputs": [],
   "source": [
    "user1=recommended_movies(movie_user_1)\n",
    "user2=recommended_movies(movie_user_2)"
   ]
  },
  {
   "cell_type": "code",
   "execution_count": 0,
   "metadata": {
    "colab": {},
    "colab_type": "code",
    "id": "II6DufDYBAKd"
   },
   "outputs": [],
   "source": [
    "u=3 #number of movies to be recommended"
   ]
  },
  {
   "cell_type": "code",
   "execution_count": 0,
   "metadata": {
    "colab": {},
    "colab_type": "code",
    "id": "J1Yd5FufAZZt"
   },
   "outputs": [],
   "source": [
    "def similar_movie(similarity_sort,similarity_sort1):\n",
    "  list_of_movies=[]\n",
    "  list_of_movies_index=[]\n",
    "  r=0\n",
    "  i=0\n",
    "  for f in range(10,558,20):\n",
    "    for x in range(r,f):\n",
    "      for y in range(r,f):\n",
    "        if similarity_sort[x][0] == similarity_sort1[y][0] and i<u:\n",
    "          #print(similarity_sort[x][0],similarity_sort1[y][0])\n",
    "          list_of_movies_index.append(similarity_sort[x][0])\n",
    "          i=i+1\n",
    "\n",
    "    if i==3:\n",
    "      break\n",
    "    r=f\n",
    "    \n",
    "  list_of_movies = [movies[x] for x in list_of_movies_index]\n",
    "  return list_of_movies"
   ]
  },
  {
   "cell_type": "code",
   "execution_count": 0,
   "metadata": {
    "colab": {},
    "colab_type": "code",
    "id": "Ymz2pm40BPZ-"
   },
   "outputs": [],
   "source": [
    "movies_list = similar_movie(user1,user2)"
   ]
  },
  {
   "cell_type": "code",
   "execution_count": 28,
   "metadata": {
    "colab": {
     "base_uri": "https://localhost:8080/",
     "height": 34
    },
    "colab_type": "code",
    "id": "a9E2vXYqD6TP",
    "outputId": "949bb085-477a-4d3e-f365-3c774be56ccc"
   },
   "outputs": [
    {
     "data": {
      "text/plain": [
       "['BlacKkKlansman', 'War Dogs', 'Gully Boy']"
      ]
     },
     "execution_count": 28,
     "metadata": {
      "tags": []
     },
     "output_type": "execute_result"
    }
   ],
   "source": [
    "movies_list"
   ]
  },
  {
   "cell_type": "code",
   "execution_count": 0,
   "metadata": {
    "colab": {},
    "colab_type": "code",
    "id": "y56kDMT5EMfw"
   },
   "outputs": [],
   "source": []
  }
 ],
 "metadata": {
  "colab": {
   "name": "Movie_recommendation_system.ipynb",
   "provenance": []
  },
  "kernelspec": {
   "display_name": "Python 3",
   "language": "python",
   "name": "python3"
  },
  "language_info": {
   "codemirror_mode": {
    "name": "ipython",
    "version": 3
   },
   "file_extension": ".py",
   "mimetype": "text/x-python",
   "name": "python",
   "nbconvert_exporter": "python",
   "pygments_lexer": "ipython3",
   "version": "3.7.3"
  }
 },
 "nbformat": 4,
 "nbformat_minor": 1
}
